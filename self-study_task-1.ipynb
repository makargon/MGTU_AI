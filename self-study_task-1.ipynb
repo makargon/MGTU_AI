{
  "cells": [
    {
      "cell_type": "markdown",
      "metadata": {
        "id": "mUksiczOZ6vf"
      },
      "source": [
        "# Задания на занятие (умеренный уровень)\n",
        "\n",
        "Для тех, кто не уверен в своих силах, может сразу решать задачи [pythontutor](https://pythontutor.ru/).  Либо смотреть курсы типа [Курс: Д. П. Кириенко. Программирование на языке Python (школа 179 г. Москвы)](https://informatics.msk.ru/course/view.php?id=156).\n"
      ]
    },
    {
      "cell_type": "code",
      "execution_count": 1,
      "metadata": {
        "id": "lndUHkHPeI8U"
      },
      "outputs": [],
      "source": [
        "# Test methods \n",
        "class test:\n",
        "  def assert_equals(a, b) :\n",
        "    assert (a == b)"
      ]
    },
    {
      "cell_type": "markdown",
      "metadata": {
        "id": "mtqCqh9EuWLk"
      },
      "source": [
        "##[1. Электронные часы](https://pythontutor.ru/lessons/inout_and_arithmetic_operations/problems/electronic_watch/)\n",
        "\n",
        "\n",
        "Дано число `n`. С начала суток прошло n минут. Определите, сколько часов и минут будут показывать электронные часы в этот момент. Программа должна вывести два числа: количество часов (от `0` до `23`) и количество минут (от `0` до `59`). Учтите, что число `n` может быть больше, чем количество минут в сутках.\n",
        "\n",
        "Подсказка: \n",
        "* [Строки. Функции и методы строк](https://pythonworld.ru/tipy-dannyx-v-python/stroki-funkcii-i-metody-strok.html)"
      ]
    },
    {
      "cell_type": "code",
      "execution_count": 8,
      "metadata": {
        "id": "BzOSCXbpwE9F"
      },
      "outputs": [],
      "source": [
        "def electronic_clock(num):\n",
        "    return (str((num % (60*24)) // 60) + \" \" + str((num % (60*24)) % 60))"
      ]
    },
    {
      "cell_type": "code",
      "execution_count": 9,
      "metadata": {
        "id": "Vg4HVP9ZwUDY"
      },
      "outputs": [],
      "source": [
        "# Testing\n",
        "test.assert_equals(electronic_clock(150), '2 30')\n",
        "test.assert_equals(electronic_clock(1441), '0 1')\n",
        "test.assert_equals(electronic_clock(444), '7 24')\n",
        "test.assert_equals(electronic_clock(1439), '23 59')\n",
        "test.assert_equals(electronic_clock(9876), '20 36')"
      ]
    },
    {
      "cell_type": "markdown",
      "metadata": {
        "id": "1BBmfkwgyxIY"
      },
      "source": [
        "## [2. Hello, Harry!](https://pythontutor.ru/lessons/inout_and_arithmetic_operations/problems/hello_harry/)\n",
        "\n",
        "Напишите программу, которая приветствует пользователя, выводя слово `Hello`, введенное имя и знаки препинания по образцу:\n",
        "\n",
        "```\n",
        "Harry     ->     Hello, Harry!\n",
        "```"
      ]
    },
    {
      "cell_type": "code",
      "execution_count": 10,
      "metadata": {
        "id": "hPrS6a-IzFba"
      },
      "outputs": [],
      "source": [
        "def hello(name):\n",
        "    return(\"Hello, \" + name + \"!\")"
      ]
    },
    {
      "cell_type": "code",
      "execution_count": null,
      "metadata": {
        "id": "Yw0rXlM9pAe1"
      },
      "outputs": [],
      "source": [
        "hello(input())"
      ]
    },
    {
      "cell_type": "code",
      "execution_count": 13,
      "metadata": {
        "id": "A9Ptcd6IzKTQ"
      },
      "outputs": [],
      "source": [
        "# Testing\n",
        "test.assert_equals(hello(\"Harry\"), \"Hello, Harry!\")\n",
        "test.assert_equals(hello(\"Mr. Potter\"), \"Hello, Mr. Potter!\")\n",
        "test.assert_equals(hello(\"Lord Voldemort\"), \"Hello, Lord Voldemort!\")"
      ]
    },
    {
      "cell_type": "markdown",
      "metadata": {
        "id": "2N1sh1Go2FNJ"
      },
      "source": [
        "## [3. Знак числа](https://pythontutor.ru/lessons/ifelse/problems/signum/)\n",
        "\n",
        "В математике функция `sign(x)` (знак числа) определена так:\n",
        "\n",
        "```\n",
        "sign(x) = 1, если x > 0,\n",
        "sign(x) = -1, если x < 0,\n",
        "sign(x) = 0, если x = 0.\n",
        "```\n",
        "\n",
        "Для данного числа `x` выведите значение `sign(x)`. Эту задачу желательно решить с использованием каскадных инструкций `if... elif... else`."
      ]
    },
    {
      "cell_type": "code",
      "execution_count": 14,
      "metadata": {
        "id": "RIW5d5n_2Xm0"
      },
      "outputs": [],
      "source": [
        "def sign(num):\n",
        "    if num == 0: return 0\n",
        "    elif num > 0: return 1\n",
        "    elif num < 0: return -1\n",
        "    else: return \"Eror\""
      ]
    },
    {
      "cell_type": "code",
      "execution_count": 15,
      "metadata": {
        "id": "NRSlrfUX2aOe"
      },
      "outputs": [],
      "source": [
        "# Testing\n",
        "test.assert_equals(sign(1534), 1)\n",
        "test.assert_equals(sign(-42), -1)\n",
        "test.assert_equals(sign(0), 0)\n",
        "test.assert_equals(sign(179), 1)"
      ]
    },
    {
      "cell_type": "markdown",
      "metadata": {
        "id": "Rr3okkrN3DzW"
      },
      "source": [
        "## [4. Минимум из трех чисел](https://pythontutor.ru/lessons/ifelse/problems/minimum3/)\n",
        "\n",
        "Даны три целых числа. Выведите значение наименьшего из них.\n",
        "\n",
        "[Что такое `*args` и `**kwargs` в Python?](https://habr.com/ru/company/ruvds/blog/482464/)\n"
      ]
    },
    {
      "cell_type": "code",
      "execution_count": 16,
      "metadata": {
        "id": "SJUdH3Ay3J3f"
      },
      "outputs": [],
      "source": [
        "def min3(*args):\n",
        "    return min(args)"
      ]
    },
    {
      "cell_type": "code",
      "execution_count": 17,
      "metadata": {
        "id": "Q-4UxtPS3Rap"
      },
      "outputs": [],
      "source": [
        "# Testing\n",
        "test.assert_equals(min3(5, 3, 7), 3)\n",
        "test.assert_equals(min3(10, 30, 4), 4)\n",
        "test.assert_equals(min3(-5, -3, -3), -5)\n",
        "test.assert_equals(min3(50, 80, 25), 25)"
      ]
    },
    {
      "cell_type": "markdown",
      "metadata": {
        "id": "FN8BmesAaAw3"
      },
      "source": [
        "## [5. Суммирование](https://www.codewars.com/kata/55d24f55d7dd296eb9000030/train/python)\n",
        "\n",
        "Напишите программу, которая суммирует числа от 1 до num. Число всегда будет положительным целым числом больше 0.\n",
        "\n",
        "Например:\n",
        "\n",
        "```python\n",
        "summation(2) -> 3\n",
        "# 1 + 2\n",
        "```\n",
        "\n",
        "```python\n",
        "summation(8) -> 36\n",
        "# 1 + 2 + 3 + 4 + 5 + 6 + 7 + 8\n",
        "```\n",
        "\n",
        "Подсказка:\n",
        "* `sum` и `range`"
      ]
    },
    {
      "cell_type": "code",
      "execution_count": 21,
      "metadata": {
        "id": "7DPuZS4kZ_ju"
      },
      "outputs": [],
      "source": [
        "def summation(num):\n",
        "    return sum(range(1, num+1))"
      ]
    },
    {
      "cell_type": "code",
      "execution_count": 22,
      "metadata": {
        "id": "q5fYlv8QcOqc"
      },
      "outputs": [],
      "source": [
        "# Testing\n",
        "test.assert_equals(summation(1), 1)\n",
        "test.assert_equals(summation(8), 36)\n",
        "test.assert_equals(summation(22), 253)\n",
        "test.assert_equals(summation(100), 5050)\n",
        "test.assert_equals(summation(213), 22791)"
      ]
    },
    {
      "cell_type": "markdown",
      "metadata": {
        "id": "xrfwkzpC4p24"
      },
      "source": [
        "## [6. Лесенка](https://pythontutor.ru/lessons/for_loop/problems/ladder/)\n",
        "\n",
        "По данному натуральному n ≤ 9 выведите лесенку из n ступенек, i-я ступенька состоит из чисел от 1 до i без пробелов.\n",
        "\n",
        "Пример\n",
        "\n",
        "| Входные данные | Правильный ответ |\n",
        "|---|---|\n",
        "| 3 | 1 <br/> 12 <br/> 123 |\n",
        "| 4 | 1 <br/> 12 <br/> 123 <br/> 1234 |\n",
        "| 6 | 1 <br/> 12 <br/> 123 <br/> 1234 <br/> 12345 <br/> 123456 |"
      ]
    },
    {
      "cell_type": "code",
      "execution_count": 42,
      "metadata": {
        "id": "sdGJVd1v42aA"
      },
      "outputs": [
        {
          "name": "stdout",
          "output_type": "stream",
          "text": [
            "1\n",
            "12\n",
            "123\n",
            "1234\n",
            "12345\n",
            "123456\n",
            "1234567\n",
            "12345678\n",
            "123456789\n",
            "12345678910\n",
            "1234567891011\n",
            "123456789101112\n",
            "12345678910111213\n",
            "1234567891011121314\n",
            "123456789101112131415\n",
            "12345678910111213141516\n",
            "1234567891011121314151617\n",
            "123456789101112131415161718\n",
            "12345678910111213141516171819\n",
            "1234567891011121314151617181920\n",
            "123456789101112131415161718192021\n",
            "12345678910111213141516171819202122\n",
            "1234567891011121314151617181920212223\n",
            "123456789101112131415161718192021222324\n",
            "12345678910111213141516171819202122232425\n"
          ]
        }
      ],
      "source": [
        "def stairs(num):\n",
        "    b = \"\"\n",
        "    for i in range(1, num+1):\n",
        "        b += str(i)\n",
        "        print(b)\n",
        "stairs(25)"
      ]
    },
    {
      "cell_type": "markdown",
      "metadata": {
        "id": "21LuHisZ6M_a"
      },
      "source": [
        "## [7. Количество слов](https://pythontutor.ru/lessons/str/problems/num_words/)\n",
        "\n",
        "Дана строка, состоящая из слов, разделенных пробелами. Определите, сколько в ней слов. Используйте для решения задачи метод `count`."
      ]
    },
    {
      "cell_type": "code",
      "execution_count": 32,
      "metadata": {
        "id": "Ly4zaQqk6Weu"
      },
      "outputs": [],
      "source": [
        "def count_words(sentence):\n",
        "    return sentence.count(\" \")+1\n",
        "    pass # Code here"
      ]
    },
    {
      "cell_type": "code",
      "execution_count": 33,
      "metadata": {
        "id": "hVg9y9KL8Gzy"
      },
      "outputs": [],
      "source": [
        "# Testing\n",
        "test.assert_equals(count_words(\"Hello world\"), 2)\n",
        "test.assert_equals(count_words(\"In the hole in the ground there lived a hobbit\"), 10)\n",
        "test.assert_equals(count_words(\"One two three four five\"), 5)"
      ]
    },
    {
      "cell_type": "markdown",
      "metadata": {
        "id": "kLErTNDD8jru"
      },
      "source": [
        "## [8. Замена подстроки](https://pythontutor.ru/lessons/str/problems/replace_substring/)\n",
        "\n",
        "Дана строка. Замените в этой строке все цифры `1` на слово `one`."
      ]
    },
    {
      "cell_type": "code",
      "execution_count": 50,
      "metadata": {
        "id": "kuEKb8k38-dG"
      },
      "outputs": [],
      "source": [
        "def replacement_1(sentence):\n",
        "    return sentence.replace(\"1\", \"one\")\n",
        "    pass # Code here"
      ]
    },
    {
      "cell_type": "code",
      "execution_count": 51,
      "metadata": {
        "id": "z4JnKbu19D5k"
      },
      "outputs": [],
      "source": [
        "# Testing\n",
        "test.assert_equals(replacement_1(\"1+1=2\"), \"one+one=2\")\n",
        "test.assert_equals(replacement_1(\"1111111111111111111111111111111111\"), \"oneoneoneoneoneoneoneoneoneoneoneoneoneoneoneoneoneoneoneoneoneoneoneoneoneoneoneoneoneoneoneoneoneone\")\n",
        "test.assert_equals(replacement_1(\"1213141516171819101\"), \"one2one3one4one5one6one7one8one9one0one\")"
      ]
    },
    {
      "cell_type": "markdown",
      "metadata": {
        "id": "34TGiF5W977x"
      },
      "source": [
        "## [9. Четные индексы](https://pythontutor.ru/lessons/lists/problems/even_indices/)\n",
        "\n",
        "Выведите все элементы списка с четными индексами (то есть `A[0]`, `A[2]`, `A[4]`, ...)."
      ]
    },
    {
      "cell_type": "code",
      "execution_count": 52,
      "metadata": {
        "id": "W2a_HGiPB-0K"
      },
      "outputs": [],
      "source": [
        "def even_indexes(list_nums):\n",
        "    return list_nums[::2]"
      ]
    },
    {
      "cell_type": "code",
      "execution_count": 53,
      "metadata": {
        "id": "JGSlneJVCWbK"
      },
      "outputs": [],
      "source": [
        "# Testing\n",
        "test.assert_equals(even_indexes([1, 2, 3, 4, 5]), [1, 3, 5])\n",
        "test.assert_equals(even_indexes([4, 5, 3, 4, 2, 3]), [4, 3, 2])\n",
        "test.assert_equals(even_indexes([40, 64, -80, -98, -68, 56, 85, 87, -68, -78]), [40, -80, -68, 85, -68])"
      ]
    },
    {
      "cell_type": "markdown",
      "metadata": {
        "id": "rrv0cWkdC5Ko"
      },
      "source": [
        "## [10. Переставить min и max](https://pythontutor.ru/lessons/lists/problems/swap_min_and_max/)\n",
        "\n",
        "В списке все элементы различны. Поменяйте местами минимальный и максимальный элемент этого списка."
      ]
    },
    {
      "cell_type": "code",
      "execution_count": 63,
      "metadata": {
        "id": "M9Rj6wEqC4qi"
      },
      "outputs": [],
      "source": [
        "def change_min_max(list_nums):\n",
        "    nums = list_nums.copy()\n",
        "    nums[nums.index(list_nums)], nums[nums.index(min(list_nums))] = min(list_nums), max(list_nums)\n",
        "    return list_nums"
      ]
    },
    {
      "cell_type": "code",
      "execution_count": 64,
      "metadata": {
        "id": "tpWewsi5DTna"
      },
      "outputs": [
        {
          "ename": "ValueError",
          "evalue": "[3, 4, 5, 2, 1] is not in list",
          "output_type": "error",
          "traceback": [
            "\u001b[1;31m---------------------------------------------------------------------------\u001b[0m",
            "\u001b[1;31mValueError\u001b[0m                                Traceback (most recent call last)",
            "\u001b[1;32m<ipython-input-64-aa08317b4dd9>\u001b[0m in \u001b[0;36m<module>\u001b[1;34m\u001b[0m\n\u001b[0;32m      1\u001b[0m \u001b[1;31m# Testing\u001b[0m\u001b[1;33m\u001b[0m\u001b[1;33m\u001b[0m\u001b[1;33m\u001b[0m\u001b[0m\n\u001b[1;32m----> 2\u001b[1;33m \u001b[0mtest\u001b[0m\u001b[1;33m.\u001b[0m\u001b[0massert_equals\u001b[0m\u001b[1;33m(\u001b[0m\u001b[0mchange_min_max\u001b[0m\u001b[1;33m(\u001b[0m\u001b[1;33m[\u001b[0m\u001b[1;36m3\u001b[0m\u001b[1;33m,\u001b[0m \u001b[1;36m4\u001b[0m\u001b[1;33m,\u001b[0m \u001b[1;36m5\u001b[0m\u001b[1;33m,\u001b[0m \u001b[1;36m2\u001b[0m\u001b[1;33m,\u001b[0m \u001b[1;36m1\u001b[0m\u001b[1;33m]\u001b[0m\u001b[1;33m)\u001b[0m\u001b[1;33m,\u001b[0m \u001b[1;33m[\u001b[0m\u001b[1;36m3\u001b[0m\u001b[1;33m,\u001b[0m \u001b[1;36m4\u001b[0m\u001b[1;33m,\u001b[0m \u001b[1;36m1\u001b[0m\u001b[1;33m,\u001b[0m \u001b[1;36m2\u001b[0m\u001b[1;33m,\u001b[0m \u001b[1;36m5\u001b[0m\u001b[1;33m]\u001b[0m\u001b[1;33m)\u001b[0m\u001b[1;33m\u001b[0m\u001b[1;33m\u001b[0m\u001b[0m\n\u001b[0m\u001b[0;32m      3\u001b[0m \u001b[0mtest\u001b[0m\u001b[1;33m.\u001b[0m\u001b[0massert_equals\u001b[0m\u001b[1;33m(\u001b[0m\u001b[0mchange_min_max\u001b[0m\u001b[1;33m(\u001b[0m\u001b[1;33m[\u001b[0m\u001b[1;36m2147483647\u001b[0m\u001b[1;33m,\u001b[0m \u001b[1;33m-\u001b[0m\u001b[1;36m2147483648\u001b[0m\u001b[1;33m]\u001b[0m\u001b[1;33m)\u001b[0m\u001b[1;33m,\u001b[0m \u001b[1;33m[\u001b[0m\u001b[1;33m-\u001b[0m\u001b[1;36m2147483648\u001b[0m\u001b[1;33m,\u001b[0m \u001b[1;36m2147483647\u001b[0m\u001b[1;33m]\u001b[0m\u001b[1;33m)\u001b[0m\u001b[1;33m\u001b[0m\u001b[1;33m\u001b[0m\u001b[0m\n\u001b[0;32m      4\u001b[0m \u001b[0mtest\u001b[0m\u001b[1;33m.\u001b[0m\u001b[0massert_equals\u001b[0m\u001b[1;33m(\u001b[0m\u001b[0mchange_min_max\u001b[0m\u001b[1;33m(\u001b[0m\u001b[1;33m[\u001b[0m\u001b[1;36m10\u001b[0m\u001b[1;33m,\u001b[0m \u001b[1;36m9\u001b[0m\u001b[1;33m,\u001b[0m \u001b[1;36m8\u001b[0m\u001b[1;33m,\u001b[0m \u001b[1;36m7\u001b[0m\u001b[1;33m,\u001b[0m \u001b[1;36m6\u001b[0m\u001b[1;33m,\u001b[0m \u001b[1;36m5\u001b[0m\u001b[1;33m,\u001b[0m \u001b[1;36m4\u001b[0m\u001b[1;33m,\u001b[0m \u001b[1;36m3\u001b[0m\u001b[1;33m,\u001b[0m \u001b[1;36m2\u001b[0m\u001b[1;33m,\u001b[0m \u001b[1;36m1\u001b[0m\u001b[1;33m]\u001b[0m\u001b[1;33m)\u001b[0m\u001b[1;33m,\u001b[0m \u001b[1;33m[\u001b[0m\u001b[1;36m1\u001b[0m\u001b[1;33m,\u001b[0m \u001b[1;36m9\u001b[0m\u001b[1;33m,\u001b[0m \u001b[1;36m8\u001b[0m\u001b[1;33m,\u001b[0m \u001b[1;36m7\u001b[0m\u001b[1;33m,\u001b[0m \u001b[1;36m6\u001b[0m\u001b[1;33m,\u001b[0m \u001b[1;36m5\u001b[0m\u001b[1;33m,\u001b[0m \u001b[1;36m4\u001b[0m\u001b[1;33m,\u001b[0m \u001b[1;36m3\u001b[0m\u001b[1;33m,\u001b[0m \u001b[1;36m2\u001b[0m\u001b[1;33m,\u001b[0m \u001b[1;36m10\u001b[0m\u001b[1;33m]\u001b[0m\u001b[1;33m)\u001b[0m\u001b[1;33m\u001b[0m\u001b[1;33m\u001b[0m\u001b[0m\n",
            "\u001b[1;32m<ipython-input-63-4fbcb1e6b084>\u001b[0m in \u001b[0;36mchange_min_max\u001b[1;34m(list_nums)\u001b[0m\n\u001b[0;32m      1\u001b[0m \u001b[1;32mdef\u001b[0m \u001b[0mchange_min_max\u001b[0m\u001b[1;33m(\u001b[0m\u001b[0mlist_nums\u001b[0m\u001b[1;33m)\u001b[0m\u001b[1;33m:\u001b[0m\u001b[1;33m\u001b[0m\u001b[1;33m\u001b[0m\u001b[0m\n\u001b[0;32m      2\u001b[0m     \u001b[0mnums\u001b[0m \u001b[1;33m=\u001b[0m \u001b[0mlist_nums\u001b[0m\u001b[1;33m.\u001b[0m\u001b[0mcopy\u001b[0m\u001b[1;33m(\u001b[0m\u001b[1;33m)\u001b[0m\u001b[1;33m\u001b[0m\u001b[1;33m\u001b[0m\u001b[0m\n\u001b[1;32m----> 3\u001b[1;33m     \u001b[0mnums\u001b[0m\u001b[1;33m[\u001b[0m\u001b[0mnums\u001b[0m\u001b[1;33m.\u001b[0m\u001b[0mindex\u001b[0m\u001b[1;33m(\u001b[0m\u001b[0mlist_nums\u001b[0m\u001b[1;33m)\u001b[0m\u001b[1;33m]\u001b[0m\u001b[1;33m,\u001b[0m \u001b[0mnums\u001b[0m\u001b[1;33m[\u001b[0m\u001b[0mnums\u001b[0m\u001b[1;33m.\u001b[0m\u001b[0mindex\u001b[0m\u001b[1;33m(\u001b[0m\u001b[0mmin\u001b[0m\u001b[1;33m(\u001b[0m\u001b[0mlist_nums\u001b[0m\u001b[1;33m)\u001b[0m\u001b[1;33m)\u001b[0m\u001b[1;33m]\u001b[0m \u001b[1;33m=\u001b[0m \u001b[0mmin\u001b[0m\u001b[1;33m(\u001b[0m\u001b[0mlist_nums\u001b[0m\u001b[1;33m)\u001b[0m\u001b[1;33m,\u001b[0m \u001b[0mmax\u001b[0m\u001b[1;33m(\u001b[0m\u001b[0mlist_nums\u001b[0m\u001b[1;33m)\u001b[0m\u001b[1;33m\u001b[0m\u001b[1;33m\u001b[0m\u001b[0m\n\u001b[0m\u001b[0;32m      4\u001b[0m     \u001b[1;32mreturn\u001b[0m \u001b[0mlist_nums\u001b[0m\u001b[1;33m\u001b[0m\u001b[1;33m\u001b[0m\u001b[0m\n",
            "\u001b[1;31mValueError\u001b[0m: [3, 4, 5, 2, 1] is not in list"
          ]
        }
      ],
      "source": [
        "# Testing\n",
        "test.assert_equals(change_min_max([3, 4, 5, 2, 1]), [3, 4, 1, 2, 5])\n",
        "test.assert_equals(change_min_max([2147483647, -2147483648]), [-2147483648, 2147483647])\n",
        "test.assert_equals(change_min_max([10, 9, 8, 7, 6, 5, 4, 3, 2, 1]), [1, 9, 8, 7, 6, 5, 4, 3, 2, 10])"
      ]
    },
    {
      "cell_type": "markdown",
      "metadata": {
        "id": "BK0mvqfs0mrY"
      },
      "source": [
        "## Ответы\n",
        "\n",
        "Ответы на [задачи](http://pythoshka.ru/p15.html)."
      ]
    }
  ],
  "metadata": {
    "colab": {
      "collapsed_sections": [],
      "name": "Занятие 22 янв 2022 (Прак Normal tasks).ipynb",
      "provenance": []
    },
    "kernelspec": {
      "display_name": "Python 3",
      "name": "python3"
    },
    "language_info": {
      "codemirror_mode": {
        "name": "ipython",
        "version": 3
      },
      "file_extension": ".py",
      "mimetype": "text/x-python",
      "name": "python",
      "nbconvert_exporter": "python",
      "pygments_lexer": "ipython3",
      "version": "3.8.5"
    }
  },
  "nbformat": 4,
  "nbformat_minor": 0
}
